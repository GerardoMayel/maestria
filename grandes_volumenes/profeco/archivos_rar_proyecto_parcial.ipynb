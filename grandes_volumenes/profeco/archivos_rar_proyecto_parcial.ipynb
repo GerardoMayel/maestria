{
 "cells": [
  {
   "cell_type": "code",
   "execution_count": 1,
   "id": "f7821128-af99-463b-9300-ff2612c0537f",
   "metadata": {},
   "outputs": [],
   "source": [
    "import pandas as pd\n",
    "import numpy as np"
   ]
  },
  {
   "cell_type": "code",
   "execution_count": 2,
   "id": "cfae4bdc-5cf6-4cfc-bb6f-8c1e1ebb5ad9",
   "metadata": {},
   "outputs": [
    {
     "name": "stdout",
     "output_type": "stream",
     "text": [
      "Requirement already satisfied: pip in /Users/mayel/jupyter/maestria/maestria_venv/lib/python3.8/site-packages (24.0)\n"
     ]
    }
   ],
   "source": [
    "!pip install --upgrade pip"
   ]
  },
  {
   "cell_type": "code",
   "execution_count": 13,
   "id": "c55a7a27-cfb1-4755-9668-34bac0990cf6",
   "metadata": {},
   "outputs": [
    {
     "name": "stdout",
     "output_type": "stream",
     "text": [
      "act_3_limpieza_1.sh\n",
      "appointments.csv\n",
      "archivos_rar_proyecto_parcial.ipynb\n",
      "p1.pig\n",
      "p2.pig\n",
      "p3.pig\n",
      "p4.pig\n",
      "p5.pig\n",
      "\u001b[1m\u001b[36mprofeco\u001b[m\u001b[m\n",
      "\u001b[1m\u001b[36mrar\u001b[m\u001b[m\n",
      "respuestas_actividad_3_limpieza_1.txt\n",
      "respuestas_actividad_3_limpieza_1_intento_2.txt\n",
      "uci-news-aggregator-modified.csv\n",
      "uci-news-aggregator.csv\n"
     ]
    }
   ],
   "source": [
    "!ls"
   ]
  },
  {
   "cell_type": "code",
   "execution_count": 16,
   "id": "13122bdb-5ac1-42a8-a2b8-afe562b07c2b",
   "metadata": {},
   "outputs": [],
   "source": [
    "import os\n",
    "\n",
    "def unir_csv_texto(directorio, archivos, archivo_salida):\n",
    "    # Definir el encabezado según la documentación proporcionada\n",
    "    encabezado = \"PRODUCTO,PRESENTACIÓN,MARCA,CATEGORÍA,CATÁLOGO,PRECIO,FECHAREGISTRO,CADENACOMERCIAL,GIRO,NOMBRECOMERCIAL,DIRECCIÓN,ESTADO,MUNICIPIO,LATITUD,LONGITUD\\n\"\n",
    "    \n",
    "    # Abrir el archivo de salida para escribir\n",
    "    with open(os.path.join(directorio, archivo_salida), 'w') as archivo_final:\n",
    "        # Escribir el encabezado\n",
    "        archivo_final.write(encabezado)\n",
    "        \n",
    "        # Procesar cada archivo de entrada\n",
    "        for archivo in archivos:\n",
    "            ruta_completa = os.path.join(directorio, archivo)\n",
    "            with open(ruta_completa, 'r') as archivo_entrada:\n",
    "                next(archivo_entrada)  # Saltar el encabezado del archivo de entrada\n",
    "                # Copiar el contenido del archivo de entrada al archivo de salida\n",
    "                for linea in archivo_entrada:\n",
    "                    archivo_final.write(linea)\n",
    "\n",
    "# Especificar el directorio donde se encuentran los archivos\n",
    "directorio = 'profeco/'\n",
    "\n",
    "# Lista de archivos a combinar\n",
    "archivos = ['01-2024_01.csv', '01-2024_02.csv', '02-2024_01.csv', '02-2024_02.csv', '03-2024_01.csv', '03-2024_02.csv']\n",
    "\n",
    "# Nombre del archivo de salida\n",
    "archivo_salida = 'profeco.csv'\n",
    "\n",
    "# Llamar a la función\n",
    "unir_csv_texto(directorio, archivos, archivo_salida)\n"
   ]
  },
  {
   "cell_type": "code",
   "execution_count": null,
   "id": "c5d9e575-4216-468b-bb19-9e7cdf83da43",
   "metadata": {},
   "outputs": [],
   "source": []
  }
 ],
 "metadata": {
  "kernelspec": {
   "display_name": "diplomado_tec_env",
   "language": "python",
   "name": "diplomado_tec_venv"
  },
  "language_info": {
   "codemirror_mode": {
    "name": "ipython",
    "version": 3
   },
   "file_extension": ".py",
   "mimetype": "text/x-python",
   "name": "python",
   "nbconvert_exporter": "python",
   "pygments_lexer": "ipython3",
   "version": "3.8.3"
  }
 },
 "nbformat": 4,
 "nbformat_minor": 5
}
